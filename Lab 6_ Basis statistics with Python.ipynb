{
 "cells": [
  {
   "cell_type": "markdown",
   "metadata": {
    "colab_type": "text",
    "id": "3X9DCItLsDQB"
   },
   "source": [
    "# Setup Notebook\n"
   ]
  },
  {
   "cell_type": "code",
   "execution_count": 1,
   "metadata": {
    "colab": {
     "base_uri": "https://localhost:8080/",
     "height": 35
    },
    "colab_type": "code",
    "executionInfo": {
     "elapsed": 917,
     "status": "ok",
     "timestamp": 1591934484625,
     "user": {
      "displayName": "[xseries] Nguyễn Hải Nam",
      "photoUrl": "https://lh3.googleusercontent.com/a-/AOh14GhjAyuFuMVKBwE__T8r_1ZUToswhlfT0zKZ7hHa=s64",
      "userId": "08919228762015154080"
     },
     "user_tz": -420
    },
    "id": "BHcLSzC-rVQR",
    "outputId": "3f77822f-67d1-4fa5-8786-fecf369de327"
   },
   "outputs": [
    {
     "name": "stdout",
     "output_type": "stream",
     "text": [
      "Populating the interactive namespace from numpy and matplotlib\n"
     ]
    }
   ],
   "source": [
    "%pylab inline\n",
    "from scipy import *\n",
    "from numpy.linalg import norm\n",
    "from math import sqrt,sin,cos\n",
    "import pandas as pd\n",
    "import numpy as np\n",
    "from numpy import arange,array,ones,linalg"
   ]
  },
  {
   "cell_type": "markdown",
   "metadata": {
    "colab_type": "text",
    "id": "lWc2vybysLiE"
   },
   "source": [
    "# Part 1: Mean Squrare Error"
   ]
  },
  {
   "cell_type": "markdown",
   "metadata": {
    "colab_type": "text",
    "id": "2WYV2to3sSJQ"
   },
   "source": [
    "We considered the sample-mean estimator for the distribution mean. Another estimator for the distribution mean is the min-max-mean estimator that takes the mean (average) of the smallest and largest observed values. For example, for the sample {1, 2, 1, 5, 1}, the sample mean is (1+2+1+5+1)/5=2 while the min-max-mean is (1+5)/2=3. In this problem we ask you to run a simulation that approximates the mean squared error (MSE) of the two estimators for a uniform distribution.\n",
    "\n",
    "Take a continuous uniform distribution between  a  and  b  - given as parameters. Draw a 10-observation sample from this distribution, and calculate the sample-mean and the min-max-mean. Repeat the experiment 100,000 times, and for each estimator calculate its average bias as your MSE estimates.\n"
   ]
  },
  {
   "cell_type": "markdown",
   "metadata": {
    "colab_type": "text",
    "id": "xyZPYauEs4tT"
   },
   "source": [
    "## Problem 1"
   ]
  },
  {
   "cell_type": "markdown",
   "metadata": {
    "colab_type": "text",
    "id": "VZA6szwgs8qw"
   },
   "source": [
    "For this problem, you are asked to write a function **Sample_Mean_MSE** that experimentally calculates the MSE of the sample-mean estimator for samples drawn from uniform distribution given the bounds $a$ and $b$."
   ]
  },
  {
   "cell_type": "markdown",
   "metadata": {
    "colab_type": "text",
    "id": "mNih370_tAxe"
   },
   "source": [
    "<font  style=\"color:blue\"> **Code:**</font>\n",
    "```python\n",
    "Sample_Mean_MSE(1,5)      \n",
    "```\n",
    "\n",
    "\n",
    "<font  style=\"color:magenta\"> **Output**</font>\n",
    "```\n",
    "0.1343368663225577\n",
    "```"
   ]
  },
  {
   "cell_type": "markdown",
   "metadata": {
    "colab_type": "text",
    "id": "sE8aHMMM9Du2"
   },
   "source": [
    "**Write your code for Sample_Mean_MSE in the cell below:**"
   ]
  },
  {
   "cell_type": "code",
   "execution_count": 2,
   "metadata": {
    "colab": {},
    "colab_type": "code",
    "id": "pOJUjxsOsPxy"
   },
   "outputs": [],
   "source": [
    "# modify this cell\n",
    "\n",
    "def Sample_Mean_MSE(a,b):\n",
    "    # inputs: bounds for uniform distribution a and b\n",
    "    # sample size is 10\n",
    "    # number of experiments is 100,000\n",
    "    # output: MSE for sample mean estimator with sample size 10\n",
    "    lst1 = []; lst2 = []\n",
    "    for item in range(100000):\n",
    "        x= np.random.uniform(a,b, size=10)\n",
    "        mean_x = np.mean(x)\n",
    "        truth_mean = (np.max(x)+np.min(x))/2\n",
    "        lst1.append(mean_x); lst2.append(truth_mean)\n",
    "    truth_mean = np.mean(lst2)\n",
    "    s=0\n",
    "    for item in lst1:\n",
    "        s+= (item - truth_mean)**2\n",
    "    result = s/100000\n",
    "    return result"
   ]
  },
  {
   "cell_type": "code",
   "execution_count": 3,
   "metadata": {
    "colab": {
     "base_uri": "https://localhost:8080/",
     "height": 72
    },
    "colab_type": "code",
    "executionInfo": {
     "elapsed": 6795,
     "status": "ok",
     "timestamp": 1591934845157,
     "user": {
      "displayName": "[xseries] Nguyễn Hải Nam",
      "photoUrl": "https://lh3.googleusercontent.com/a-/AOh14GhjAyuFuMVKBwE__T8r_1ZUToswhlfT0zKZ7hHa=s64",
      "userId": "08919228762015154080"
     },
     "user_tz": -420
    },
    "id": "GcIqm4DbtFNO",
    "outputId": "6816e713-846a-4263-be92-129dd5c1dd8f"
   },
   "outputs": [
    {
     "name": "stdout",
     "output_type": "stream",
     "text": [
      "True\n",
      "True\n"
     ]
    }
   ],
   "source": [
    "# Check Function\n",
    "print(abs(Sample_Mean_MSE(-5,5)-0.83333333333333) < 0.05)\n",
    "print(abs(Sample_Mean_MSE(-10,10)-3.33333333333333) < 0.05)\n",
    "\n",
    "#\n",
    "# AUTOGRADER TEST - DO NOT REMOVE\n",
    "#\n"
   ]
  },
  {
   "cell_type": "code",
   "execution_count": 4,
   "metadata": {
    "colab": {
     "base_uri": "https://localhost:8080/",
     "height": 89
    },
    "colab_type": "code",
    "executionInfo": {
     "elapsed": 3920,
     "status": "ok",
     "timestamp": 1591934976357,
     "user": {
      "displayName": "[xseries] Nguyễn Hải Nam",
      "photoUrl": "https://lh3.googleusercontent.com/a-/AOh14GhjAyuFuMVKBwE__T8r_1ZUToswhlfT0zKZ7hHa=s64",
      "userId": "08919228762015154080"
     },
     "user_tz": -420
    },
    "id": "KqfMVj2Otb8l",
    "outputId": "8ad98de2-9643-4b0d-9b39-2908ae41285d"
   },
   "outputs": [
    {
     "data": {
      "text/plain": [
       "0.13273974484392276"
      ]
     },
     "execution_count": 4,
     "metadata": {},
     "output_type": "execute_result"
    }
   ],
   "source": [
    "Sample_Mean_MSE(1,5)"
   ]
  },
  {
   "cell_type": "markdown",
   "metadata": {
    "colab_type": "text",
    "id": "tq_d0mHIuIr5"
   },
   "source": [
    "## Problem 2"
   ]
  },
  {
   "cell_type": "markdown",
   "metadata": {
    "colab_type": "text",
    "id": "NOXh2KZsuK_0"
   },
   "source": [
    "For this problem, you are asked to write a function **MinMax_Mean_MSE** that experimentally calculates the MSE of the min-max-mean estimator for samples drawn from uniform distribution given the bounds $a$ and $b$."
   ]
  },
  {
   "cell_type": "markdown",
   "metadata": {
    "colab_type": "text",
    "id": "eRcXX8WWuQVJ"
   },
   "source": [
    "<font  style=\"color:blue\"> **Code:**</font>\n",
    "```python\n",
    "MinMax_Mean_MSE(0,10)      \n",
    "```\n",
    "\n",
    "\n",
    "<font  style=\"color:magenta\"> **Output:**</font>\n",
    "\n",
    "0.37865973633197908"
   ]
  },
  {
   "cell_type": "markdown",
   "metadata": {
    "colab_type": "text",
    "id": "ccWMtDP19J2t"
   },
   "source": [
    "**Write your code for MinMax_Mean_MSE in the cell below:**"
   ]
  },
  {
   "cell_type": "code",
   "execution_count": 5,
   "metadata": {
    "colab": {},
    "colab_type": "code",
    "id": "07cBkk1GttrK"
   },
   "outputs": [
    {
     "name": "stdout",
     "output_type": "stream",
     "text": [
      "True\n",
      "True\n"
     ]
    }
   ],
   "source": [
    "# modify this cell\n",
    "\n",
    "def MinMax_Mean_MSE(a,b):\n",
    "    # inputs: bounds for uniform distribution a and b\n",
    "    # sample size is 10\n",
    "    # number of experiments is 100,000\n",
    "    # output: MSE for sample mean estimator with sample size 10\n",
    "    lst1=[]; lst2=[]\n",
    "    for item in range(100000):\n",
    "        x = np.random.uniform(a,b,size=10)\n",
    "        mean_x = np.mean(x)\n",
    "        minmax_mean = (np.max(x)+np.min(x))/2\n",
    "        lst1.append(mean_x); lst2.append(minmax_mean)\n",
    "    mean_x = np.mean(lst1)\n",
    "    s=0\n",
    "    for item in lst2:\n",
    "        s+= (item-mean_x)**2\n",
    "    result = s/100000\n",
    "    return result\n",
    "print(abs(MinMax_Mean_MSE(-5,5)-0.37882324043882964) < 0.05)\n",
    "print(abs(MinMax_Mean_MSE(-10,10)-1.5151124438250361) < 0.05)"
   ]
  },
  {
   "cell_type": "code",
   "execution_count": 6,
   "metadata": {
    "colab": {
     "base_uri": "https://localhost:8080/",
     "height": 72
    },
    "colab_type": "code",
    "executionInfo": {
     "elapsed": 5803,
     "status": "ok",
     "timestamp": 1591935073243,
     "user": {
      "displayName": "[xseries] Nguyễn Hải Nam",
      "photoUrl": "https://lh3.googleusercontent.com/a-/AOh14GhjAyuFuMVKBwE__T8r_1ZUToswhlfT0zKZ7hHa=s64",
      "userId": "08919228762015154080"
     },
     "user_tz": -420
    },
    "id": "xcKMSyIouU5I",
    "outputId": "695795e4-6712-45ce-f6c0-24b9bb94a2b3"
   },
   "outputs": [],
   "source": [
    "# Check Function\n",
    "assert abs(MinMax_Mean_MSE(-5,5)-0.37882324043882964) < 0.05\n",
    "assert abs(MinMax_Mean_MSE(-10,10)-1.5151124438250361) < 0.05"
   ]
  },
  {
   "cell_type": "markdown",
   "metadata": {
    "colab_type": "text",
    "id": "mSRlSt5x0_M4"
   },
   "source": [
    "# Part 2: Regression"
   ]
  },
  {
   "cell_type": "markdown",
   "metadata": {
    "colab_type": "text",
    "id": "GjVlnR7m1HPR"
   },
   "source": [
    "It is now your turn to try out all of the above code. For this exercise you will measure the relationship between hours studyig and student grades for a simulated dataset. Below is a scatter plot of the data.\n"
   ]
  },
  {
   "cell_type": "code",
   "execution_count": 7,
   "metadata": {
    "colab": {},
    "colab_type": "code",
    "id": "BT6Ch_3b1JKr"
   },
   "outputs": [
    {
     "name": "stdout",
     "output_type": "stream",
     "text": [
      "(1000, 2)\n"
     ]
    },
    {
     "data": {
      "text/html": [
       "<div>\n",
       "<style scoped>\n",
       "    .dataframe tbody tr th:only-of-type {\n",
       "        vertical-align: middle;\n",
       "    }\n",
       "\n",
       "    .dataframe tbody tr th {\n",
       "        vertical-align: top;\n",
       "    }\n",
       "\n",
       "    .dataframe thead th {\n",
       "        text-align: right;\n",
       "    }\n",
       "</style>\n",
       "<table border=\"1\" class=\"dataframe\">\n",
       "  <thead>\n",
       "    <tr style=\"text-align: right;\">\n",
       "      <th></th>\n",
       "      <th>study_hours</th>\n",
       "      <th>grades</th>\n",
       "    </tr>\n",
       "  </thead>\n",
       "  <tbody>\n",
       "    <tr>\n",
       "      <th>0</th>\n",
       "      <td>32.143368</td>\n",
       "      <td>75.636962</td>\n",
       "    </tr>\n",
       "    <tr>\n",
       "      <th>1</th>\n",
       "      <td>27.466725</td>\n",
       "      <td>76.932627</td>\n",
       "    </tr>\n",
       "    <tr>\n",
       "      <th>2</th>\n",
       "      <td>21.247638</td>\n",
       "      <td>68.575996</td>\n",
       "    </tr>\n",
       "    <tr>\n",
       "      <th>3</th>\n",
       "      <td>33.726661</td>\n",
       "      <td>81.221442</td>\n",
       "    </tr>\n",
       "    <tr>\n",
       "      <th>4</th>\n",
       "      <td>36.501309</td>\n",
       "      <td>84.787467</td>\n",
       "    </tr>\n",
       "  </tbody>\n",
       "</table>\n",
       "</div>"
      ],
      "text/plain": [
       "   study_hours     grades\n",
       "0    32.143368  75.636962\n",
       "1    27.466725  76.932627\n",
       "2    21.247638  68.575996\n",
       "3    33.726661  81.221442\n",
       "4    36.501309  84.787467"
      ]
     },
     "execution_count": 7,
     "metadata": {},
     "output_type": "execute_result"
    }
   ],
   "source": [
    "data = pd.read_csv('data/hw_regression_data.csv')\n",
    "print(data.shape)\n",
    "data.head()"
   ]
  },
  {
   "cell_type": "code",
   "execution_count": 8,
   "metadata": {
    "colab": {},
    "colab_type": "code",
    "id": "fW_B8u5u1DYo"
   },
   "outputs": [
    {
     "data": {
      "image/png": "[encoded data removed]",
      "text/plain": [
       "<Figure size 720x576 with 1 Axes>"
      ]
     },
     "metadata": {
      "needs_background": "light"
     },
     "output_type": "display_data"
    }
   ],
   "source": [
    "ax= data.plot(kind='scatter',s=1.4,x=\"study_hours\",y=\"grades\",figsize=[10,8]);"
   ]
  },
  {
   "cell_type": "markdown",
   "metadata": {
    "colab_type": "text",
    "id": "MSAr81589kjA"
   },
   "source": [
    "## Problem 3: Get Averages"
   ]
  },
  {
   "cell_type": "markdown",
   "metadata": {
    "colab_type": "text",
    "id": "gqOyV09s1sOq"
   },
   "source": [
    "\n",
    "\n",
    "Write a function, **get_averages**, that:\n",
    "1. For all data points round the student's study hours to the nearest whole number.\n",
    "2. Compute the mean grade for each rounded whole number of study hours.\n",
    "\n",
    "The function should return a pandas dataframe of the mean grades for each existing rounded whole number. The beginning of the panda dataframe is provided for you below:\n",
    "\n",
    "<font  style=\"color:blue\">  **Code:** </font>\n",
    "```python\n",
    "grade_means = get_averages(data)\n",
    "\n",
    "print(type(grade_means))\n",
    "print(grade_means.shape)\n",
    "print(grade_means.columns) \n",
    "grade_means.head()\n",
    "```\n",
    "\n",
    "<font  style=\"color:magenta\"> **Output:**</font>\n",
    "```\n",
    "<class 'pandas.core.frame.DataFrame'>\n",
    "(38, 1)\n",
    "Index([u'grades'], dtype='object')\n",
    "```\n",
    "<img src=\"data/reg_ex_table.png\"  style=\"width: 190px;\"/>"
   ]
  },
  {
   "cell_type": "markdown",
   "metadata": {
    "colab_type": "text",
    "id": "wVKt-Q769XHe"
   },
   "source": [
    "**Write your code for get_averages in the cell below:**"
   ]
  },
  {
   "cell_type": "code",
   "execution_count": 9,
   "metadata": {
    "colab": {},
    "colab_type": "code",
    "id": "Eqbm87iU24QD"
   },
   "outputs": [
    {
     "data": {
      "text/html": [
       "<div>\n",
       "<style scoped>\n",
       "    .dataframe tbody tr th:only-of-type {\n",
       "        vertical-align: middle;\n",
       "    }\n",
       "\n",
       "    .dataframe tbody tr th {\n",
       "        vertical-align: top;\n",
       "    }\n",
       "\n",
       "    .dataframe thead th {\n",
       "        text-align: right;\n",
       "    }\n",
       "</style>\n",
       "<table border=\"1\" class=\"dataframe\">\n",
       "  <thead>\n",
       "    <tr style=\"text-align: right;\">\n",
       "      <th></th>\n",
       "      <th>round_study_hours</th>\n",
       "      <th>grades</th>\n",
       "    </tr>\n",
       "  </thead>\n",
       "  <tbody>\n",
       "    <tr>\n",
       "      <th>0</th>\n",
       "      <td>17.0</td>\n",
       "      <td>58.338329</td>\n",
       "    </tr>\n",
       "    <tr>\n",
       "      <th>1</th>\n",
       "      <td>18.0</td>\n",
       "      <td>70.011955</td>\n",
       "    </tr>\n",
       "    <tr>\n",
       "      <th>2</th>\n",
       "      <td>18.0</td>\n",
       "      <td>60.565707</td>\n",
       "    </tr>\n",
       "    <tr>\n",
       "      <th>3</th>\n",
       "      <td>19.0</td>\n",
       "      <td>64.524447</td>\n",
       "    </tr>\n",
       "    <tr>\n",
       "      <th>4</th>\n",
       "      <td>19.0</td>\n",
       "      <td>61.513720</td>\n",
       "    </tr>\n",
       "    <tr>\n",
       "      <th>5</th>\n",
       "      <td>19.0</td>\n",
       "      <td>70.261602</td>\n",
       "    </tr>\n",
       "    <tr>\n",
       "      <th>6</th>\n",
       "      <td>20.0</td>\n",
       "      <td>62.969548</td>\n",
       "    </tr>\n",
       "    <tr>\n",
       "      <th>7</th>\n",
       "      <td>20.0</td>\n",
       "      <td>56.365153</td>\n",
       "    </tr>\n",
       "    <tr>\n",
       "      <th>8</th>\n",
       "      <td>20.0</td>\n",
       "      <td>69.441408</td>\n",
       "    </tr>\n",
       "    <tr>\n",
       "      <th>9</th>\n",
       "      <td>20.0</td>\n",
       "      <td>70.209016</td>\n",
       "    </tr>\n",
       "    <tr>\n",
       "      <th>10</th>\n",
       "      <td>21.0</td>\n",
       "      <td>62.441460</td>\n",
       "    </tr>\n",
       "    <tr>\n",
       "      <th>11</th>\n",
       "      <td>21.0</td>\n",
       "      <td>68.575996</td>\n",
       "    </tr>\n",
       "    <tr>\n",
       "      <th>12</th>\n",
       "      <td>21.0</td>\n",
       "      <td>65.997207</td>\n",
       "    </tr>\n",
       "    <tr>\n",
       "      <th>13</th>\n",
       "      <td>22.0</td>\n",
       "      <td>67.953448</td>\n",
       "    </tr>\n",
       "    <tr>\n",
       "      <th>14</th>\n",
       "      <td>22.0</td>\n",
       "      <td>65.890628</td>\n",
       "    </tr>\n",
       "    <tr>\n",
       "      <th>15</th>\n",
       "      <td>22.0</td>\n",
       "      <td>60.914012</td>\n",
       "    </tr>\n",
       "    <tr>\n",
       "      <th>16</th>\n",
       "      <td>22.0</td>\n",
       "      <td>65.026135</td>\n",
       "    </tr>\n",
       "    <tr>\n",
       "      <th>17</th>\n",
       "      <td>22.0</td>\n",
       "      <td>56.784642</td>\n",
       "    </tr>\n",
       "    <tr>\n",
       "      <th>18</th>\n",
       "      <td>22.0</td>\n",
       "      <td>75.733753</td>\n",
       "    </tr>\n",
       "    <tr>\n",
       "      <th>19</th>\n",
       "      <td>22.0</td>\n",
       "      <td>64.509693</td>\n",
       "    </tr>\n",
       "    <tr>\n",
       "      <th>20</th>\n",
       "      <td>23.0</td>\n",
       "      <td>66.940077</td>\n",
       "    </tr>\n",
       "    <tr>\n",
       "      <th>21</th>\n",
       "      <td>23.0</td>\n",
       "      <td>67.867946</td>\n",
       "    </tr>\n",
       "    <tr>\n",
       "      <th>22</th>\n",
       "      <td>23.0</td>\n",
       "      <td>64.243927</td>\n",
       "    </tr>\n",
       "    <tr>\n",
       "      <th>23</th>\n",
       "      <td>23.0</td>\n",
       "      <td>70.319823</td>\n",
       "    </tr>\n",
       "    <tr>\n",
       "      <th>24</th>\n",
       "      <td>23.0</td>\n",
       "      <td>71.848414</td>\n",
       "    </tr>\n",
       "    <tr>\n",
       "      <th>25</th>\n",
       "      <td>23.0</td>\n",
       "      <td>75.708396</td>\n",
       "    </tr>\n",
       "    <tr>\n",
       "      <th>26</th>\n",
       "      <td>23.0</td>\n",
       "      <td>62.827670</td>\n",
       "    </tr>\n",
       "    <tr>\n",
       "      <th>27</th>\n",
       "      <td>23.0</td>\n",
       "      <td>69.678521</td>\n",
       "    </tr>\n",
       "    <tr>\n",
       "      <th>28</th>\n",
       "      <td>23.0</td>\n",
       "      <td>70.499659</td>\n",
       "    </tr>\n",
       "    <tr>\n",
       "      <th>29</th>\n",
       "      <td>23.0</td>\n",
       "      <td>64.482556</td>\n",
       "    </tr>\n",
       "    <tr>\n",
       "      <th>...</th>\n",
       "      <td>...</td>\n",
       "      <td>...</td>\n",
       "    </tr>\n",
       "    <tr>\n",
       "      <th>970</th>\n",
       "      <td>48.0</td>\n",
       "      <td>89.266956</td>\n",
       "    </tr>\n",
       "    <tr>\n",
       "      <th>971</th>\n",
       "      <td>48.0</td>\n",
       "      <td>87.204164</td>\n",
       "    </tr>\n",
       "    <tr>\n",
       "      <th>972</th>\n",
       "      <td>49.0</td>\n",
       "      <td>89.784723</td>\n",
       "    </tr>\n",
       "    <tr>\n",
       "      <th>973</th>\n",
       "      <td>49.0</td>\n",
       "      <td>85.935940</td>\n",
       "    </tr>\n",
       "    <tr>\n",
       "      <th>974</th>\n",
       "      <td>49.0</td>\n",
       "      <td>94.981215</td>\n",
       "    </tr>\n",
       "    <tr>\n",
       "      <th>975</th>\n",
       "      <td>49.0</td>\n",
       "      <td>92.155687</td>\n",
       "    </tr>\n",
       "    <tr>\n",
       "      <th>976</th>\n",
       "      <td>49.0</td>\n",
       "      <td>93.206987</td>\n",
       "    </tr>\n",
       "    <tr>\n",
       "      <th>977</th>\n",
       "      <td>49.0</td>\n",
       "      <td>87.555267</td>\n",
       "    </tr>\n",
       "    <tr>\n",
       "      <th>978</th>\n",
       "      <td>49.0</td>\n",
       "      <td>90.190610</td>\n",
       "    </tr>\n",
       "    <tr>\n",
       "      <th>979</th>\n",
       "      <td>49.0</td>\n",
       "      <td>87.521909</td>\n",
       "    </tr>\n",
       "    <tr>\n",
       "      <th>980</th>\n",
       "      <td>50.0</td>\n",
       "      <td>92.253001</td>\n",
       "    </tr>\n",
       "    <tr>\n",
       "      <th>981</th>\n",
       "      <td>50.0</td>\n",
       "      <td>91.781002</td>\n",
       "    </tr>\n",
       "    <tr>\n",
       "      <th>982</th>\n",
       "      <td>50.0</td>\n",
       "      <td>90.908505</td>\n",
       "    </tr>\n",
       "    <tr>\n",
       "      <th>983</th>\n",
       "      <td>50.0</td>\n",
       "      <td>83.359373</td>\n",
       "    </tr>\n",
       "    <tr>\n",
       "      <th>984</th>\n",
       "      <td>50.0</td>\n",
       "      <td>94.214002</td>\n",
       "    </tr>\n",
       "    <tr>\n",
       "      <th>985</th>\n",
       "      <td>50.0</td>\n",
       "      <td>89.178513</td>\n",
       "    </tr>\n",
       "    <tr>\n",
       "      <th>986</th>\n",
       "      <td>50.0</td>\n",
       "      <td>91.964626</td>\n",
       "    </tr>\n",
       "    <tr>\n",
       "      <th>987</th>\n",
       "      <td>50.0</td>\n",
       "      <td>90.872531</td>\n",
       "    </tr>\n",
       "    <tr>\n",
       "      <th>988</th>\n",
       "      <td>50.0</td>\n",
       "      <td>92.465047</td>\n",
       "    </tr>\n",
       "    <tr>\n",
       "      <th>989</th>\n",
       "      <td>51.0</td>\n",
       "      <td>81.671776</td>\n",
       "    </tr>\n",
       "    <tr>\n",
       "      <th>990</th>\n",
       "      <td>51.0</td>\n",
       "      <td>97.748746</td>\n",
       "    </tr>\n",
       "    <tr>\n",
       "      <th>991</th>\n",
       "      <td>51.0</td>\n",
       "      <td>90.647641</td>\n",
       "    </tr>\n",
       "    <tr>\n",
       "      <th>992</th>\n",
       "      <td>52.0</td>\n",
       "      <td>88.585824</td>\n",
       "    </tr>\n",
       "    <tr>\n",
       "      <th>993</th>\n",
       "      <td>52.0</td>\n",
       "      <td>91.114262</td>\n",
       "    </tr>\n",
       "    <tr>\n",
       "      <th>994</th>\n",
       "      <td>52.0</td>\n",
       "      <td>95.625543</td>\n",
       "    </tr>\n",
       "    <tr>\n",
       "      <th>995</th>\n",
       "      <td>52.0</td>\n",
       "      <td>92.547380</td>\n",
       "    </tr>\n",
       "    <tr>\n",
       "      <th>996</th>\n",
       "      <td>52.0</td>\n",
       "      <td>92.630113</td>\n",
       "    </tr>\n",
       "    <tr>\n",
       "      <th>997</th>\n",
       "      <td>52.0</td>\n",
       "      <td>97.332414</td>\n",
       "    </tr>\n",
       "    <tr>\n",
       "      <th>998</th>\n",
       "      <td>54.0</td>\n",
       "      <td>91.879630</td>\n",
       "    </tr>\n",
       "    <tr>\n",
       "      <th>999</th>\n",
       "      <td>56.0</td>\n",
       "      <td>93.483651</td>\n",
       "    </tr>\n",
       "  </tbody>\n",
       "</table>\n",
       "<p>1000 rows × 2 columns</p>\n",
       "</div>"
      ],
      "text/plain": [
       "     round_study_hours     grades\n",
       "0                 17.0  58.338329\n",
       "1                 18.0  70.011955\n",
       "2                 18.0  60.565707\n",
       "3                 19.0  64.524447\n",
       "4                 19.0  61.513720\n",
       "5                 19.0  70.261602\n",
       "6                 20.0  62.969548\n",
       "7                 20.0  56.365153\n",
       "8                 20.0  69.441408\n",
       "9                 20.0  70.209016\n",
       "10                21.0  62.441460\n",
       "11                21.0  68.575996\n",
       "12                21.0  65.997207\n",
       "13                22.0  67.953448\n",
       "14                22.0  65.890628\n",
       "15                22.0  60.914012\n",
       "16                22.0  65.026135\n",
       "17                22.0  56.784642\n",
       "18                22.0  75.733753\n",
       "19                22.0  64.509693\n",
       "20                23.0  66.940077\n",
       "21                23.0  67.867946\n",
       "22                23.0  64.243927\n",
       "23                23.0  70.319823\n",
       "24                23.0  71.848414\n",
       "25                23.0  75.708396\n",
       "26                23.0  62.827670\n",
       "27                23.0  69.678521\n",
       "28                23.0  70.499659\n",
       "29                23.0  64.482556\n",
       "..                 ...        ...\n",
       "970               48.0  89.266956\n",
       "971               48.0  87.204164\n",
       "972               49.0  89.784723\n",
       "973               49.0  85.935940\n",
       "974               49.0  94.981215\n",
       "975               49.0  92.155687\n",
       "976               49.0  93.206987\n",
       "977               49.0  87.555267\n",
       "978               49.0  90.190610\n",
       "979               49.0  87.521909\n",
       "980               50.0  92.253001\n",
       "981               50.0  91.781002\n",
       "982               50.0  90.908505\n",
       "983               50.0  83.359373\n",
       "984               50.0  94.214002\n",
       "985               50.0  89.178513\n",
       "986               50.0  91.964626\n",
       "987               50.0  90.872531\n",
       "988               50.0  92.465047\n",
       "989               51.0  81.671776\n",
       "990               51.0  97.748746\n",
       "991               51.0  90.647641\n",
       "992               52.0  88.585824\n",
       "993               52.0  91.114262\n",
       "994               52.0  95.625543\n",
       "995               52.0  92.547380\n",
       "996               52.0  92.630113\n",
       "997               52.0  97.332414\n",
       "998               54.0  91.879630\n",
       "999               56.0  93.483651\n",
       "\n",
       "[1000 rows x 2 columns]"
      ]
     },
     "execution_count": 9,
     "metadata": {},
     "output_type": "execute_result"
    }
   ],
   "source": [
    "# modify this cell\n",
    "\n",
    "def get_averages(data):\n",
    "    # input: the HW's dataset\n",
    "    # output: a pandas dataframe yielding the mean grade for each rounded number of study hours\n",
    "    data = pd.read_csv(data)\n",
    "    data['round_study_hours'] = round(data['study_hours'],0)\n",
    "    data.sort_values(by=['round_study_hours'], inplace=True)\n",
    "    data.reset_index(inplace=True, drop=True)\n",
    "    new_data = data[['round_study_hours','grades']]\n",
    "    new_data.head()\n",
    "    new_data.groupby(['round_study_hours']).mean()\n",
    "    return new_data\n",
    "get_averages('data/hw_regression_data.csv')"
   ]
  },
  {
   "cell_type": "code",
   "execution_count": 10,
   "metadata": {
    "colab": {},
    "colab_type": "code",
    "id": "USX_Fe_z1lg2"
   },
   "outputs": [
    {
     "ename": "AssertionError",
     "evalue": "",
     "output_type": "error",
     "traceback": [
      "\u001b[1;31m---------------------------------------------------------------------------\u001b[0m",
      "\u001b[1;31mAssertionError\u001b[0m                            Traceback (most recent call last)",
      "\u001b[1;32m<ipython-input-10-16b3687006ac>\u001b[0m in \u001b[0;36m<module>\u001b[1;34m\u001b[0m\n\u001b[0;32m      2\u001b[0m \u001b[0mgrade_means\u001b[0m \u001b[1;33m=\u001b[0m \u001b[0mget_averages\u001b[0m\u001b[1;33m(\u001b[0m\u001b[1;34m'data/hw_regression_data.csv'\u001b[0m\u001b[1;33m)\u001b[0m\u001b[1;33m\u001b[0m\u001b[1;33m\u001b[0m\u001b[0m\n\u001b[0;32m      3\u001b[0m \u001b[1;33m\u001b[0m\u001b[0m\n\u001b[1;32m----> 4\u001b[1;33m \u001b[1;32massert\u001b[0m \u001b[0mgrade_means\u001b[0m\u001b[1;33m.\u001b[0m\u001b[0mshape\u001b[0m \u001b[1;33m==\u001b[0m \u001b[1;33m(\u001b[0m\u001b[1;36m38\u001b[0m\u001b[1;33m,\u001b[0m \u001b[1;36m1\u001b[0m\u001b[1;33m)\u001b[0m\u001b[1;33m\u001b[0m\u001b[1;33m\u001b[0m\u001b[0m\n\u001b[0m\u001b[0;32m      5\u001b[0m \u001b[1;32massert\u001b[0m \u001b[0mstr\u001b[0m\u001b[1;33m(\u001b[0m\u001b[0mtype\u001b[0m\u001b[1;33m(\u001b[0m\u001b[0mgrade_means\u001b[0m\u001b[1;33m)\u001b[0m\u001b[1;33m)\u001b[0m \u001b[1;33m==\u001b[0m \u001b[1;34m\"<class 'pandas.core.frame.DataFrame'>\"\u001b[0m\u001b[1;33m\u001b[0m\u001b[1;33m\u001b[0m\u001b[0m\n\u001b[0;32m      6\u001b[0m \u001b[1;33m\u001b[0m\u001b[0m\n",
      "\u001b[1;31mAssertionError\u001b[0m: "
     ]
    }
   ],
   "source": [
    "# check student function\n",
    "grade_means = get_averages('data/hw_regression_data.csv')\n",
    "\n",
    "assert grade_means.shape == (38, 1)\n",
    "assert str(type(grade_means)) == \"<class 'pandas.core.frame.DataFrame'>\"\n",
    "\n",
    "try: assert grade_means.columns[0] == \"grades\"\n",
    "except: raise ValueError('the column in \"grade_means\" must be named grades')\n",
    "\n",
    "try: assert sum(abs( grade_means.tail()[\"grades\"].values - \\\n",
    "               np.array([ 90.77739,90.02272,92.97258,91.87963,93.48365])    )) < 10**-4\n",
    "except: raise ValueError('some values are incorrect in grade_means')\n",
    " \n",
    "\n",
    "# plot Graph\n",
    "ax= data.plot(kind='scatter',s=1.4,x=\"study_hours\",y=\"grades\",figsize=[10,8]);\n",
    "grade_means.plot(y='grades',style='ro', ax=ax,legend=False)\n",
    "_xlim = xlim()\n",
    "_ylim =ylim()\n",
    "for _x in arange(_xlim[0]+0.5,_xlim[1],1):\n",
    "    plot([_x,_x],[_ylim[0],_ylim[1]],'g')"
   ]
  },
  {
   "cell_type": "markdown",
   "metadata": {
    "colab_type": "text",
    "id": "CaiUGzwD3zYj"
   },
   "source": [
    "## Problem 4 Simple Linear Regression\n"
   ]
  },
  {
   "cell_type": "markdown",
   "metadata": {
    "colab_type": "text",
    "id": "YRUo07oc34rY"
   },
   "source": [
    "Write a function, **do_regression**, that performs linear regression to return \n",
    "$ \\;\n",
    " {\\bf w} = \\begin{pmatrix}\n",
    " w_0\\\\\n",
    " w_1\n",
    " \\end{pmatrix}\n",
    "$\n",
    "for the equation:\n",
    "\n",
    "$$\n",
    "\\text{grades}= w_0 + w_1 \\cdot \\text{study_hours}\n",
    "$$\n",
    "\n",
    "** *Hint* **: Use the function `linalg.lstsq` \n",
    "\n",
    "\n",
    "<font  style=\"color:blue\"> * **Code:** *</font>\n",
    "```python\n",
    "w = do_regression(data)\n",
    "print type(w)\n",
    "print w.shape\n",
    "```\n",
    "\n",
    "<font  style=\"color:magenta\"> * **Output:** *</font>\n",
    "```\n",
    "<type 'numpy.ndarray'>\n",
    "(2,)\n",
    "```"
   ]
  },
  {
   "cell_type": "markdown",
   "metadata": {
    "colab_type": "text",
    "id": "fHGrMeP19axx"
   },
   "source": [
    "**Write your code for do_regression in the cell below:**"
   ]
  },
  {
   "cell_type": "code",
   "execution_count": 13,
   "metadata": {
    "colab": {},
    "colab_type": "code",
    "id": "yLcf9yMc2-YZ"
   },
   "outputs": [],
   "source": [
    "# modify this cell\n",
    "\n",
    "def do_regression(data):\n",
    "    # input: the HW's dataset\n",
    "    # output: a numpy array yielding w=(w0,w1) from linear regression\n",
    "    data = pd.read_csv(data)\n",
    "    x = data['study_hours']\n",
    "    y = data['grades']\n",
    "    A = np.vstack([x, np.ones(len(x))]).T\n",
    "    w0, w1 = np.linalg.lstsq(A,y, rcond=None)[0]\n",
    "    return np.array([w0,w1])"
   ]
  },
  {
   "cell_type": "code",
   "execution_count": 14,
   "metadata": {
    "colab": {},
    "colab_type": "code",
    "id": "pt_PRKgG3_Ab"
   },
   "outputs": [
    {
     "name": "stdout",
     "output_type": "stream",
     "text": [
      "True\n",
      "True\n",
      "False\n",
      "[ 0.84009377 48.06947049]\n",
      "14.925981419048012 58.101223925052\n"
     ]
    },
    {
     "data": {
      "image/png": "[encoded data removed]",
      "text/plain": [
       "<Figure size 720x576 with 1 Axes>"
      ]
     },
     "metadata": {
      "needs_background": "light"
     },
     "output_type": "display_data"
    }
   ],
   "source": [
    "# check student function\n",
    "w1_hw = do_regression('data/hw_regression_data.csv')\n",
    "print(str(type(w1_hw)) ==  \"<class 'numpy.ndarray'>\")\n",
    "print(w1_hw.shape == (2,))\n",
    "print(abs(w1_hw[0] - 48.0694704904) < 10**-5)\n",
    "\n",
    "# plot Means\n",
    "print(w1_hw)\n",
    "ax= data.plot(kind='scatter',s=1.4,x=\"study_hours\",y=\"grades\",figsize=[10,8]);\n",
    "x0,x1=xlim()\n",
    "print(x0, x1)\n",
    "ax.plot([x0,x1],[f(x0,w1_hw),f(x1,w1_hw)],'k');\n",
    "\n"
   ]
  }
 ],
 "metadata": {
  "colab": {
   "authorship_tag": "ABX9TyNB8EMTerZGez6PAtLx/xm2",
   "collapsed_sections": [
    "xyZPYauEs4tT",
    "tq_d0mHIuIr5",
    "MSAr81589kjA",
    "gqOyV09s1sOq",
    "CaiUGzwD3zYj"
   ],
   "name": "Lab 6: Basis statistics with Python.ipynb",
   "provenance": []
  },
  "kernelspec": {
   "display_name": "Python 3",
   "language": "python",
   "name": "python3"
  },
  "language_info": {
   "codemirror_mode": {
    "name": "ipython",
    "version": 3
   },
   "file_extension": ".py",
   "mimetype": "text/x-python",
   "name": "python",
   "nbconvert_exporter": "python",
   "pygments_lexer": "ipython3",
   "version": "3.7.3"
  }
 },
 "nbformat": 4,
 "nbformat_minor": 1
}
